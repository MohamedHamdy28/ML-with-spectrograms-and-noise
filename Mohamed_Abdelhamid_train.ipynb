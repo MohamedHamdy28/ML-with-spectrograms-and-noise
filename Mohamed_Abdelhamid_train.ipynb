{
  "cells": [
    {
      "cell_type": "code",
      "execution_count": 1,
      "metadata": {
        "id": "Uz8cAYwrdtrc"
      },
      "outputs": [],
      "source": [
        "import tensorflow as tf\n",
        "import matplotlib\n",
        "import keras.backend as K\n",
        "import os\n",
        "import time"
      ]
    },
    {
      "attachments": {},
      "cell_type": "markdown",
      "metadata": {
        "id": "1VUs0nHGdtrg"
      },
      "source": [
        "## Training \n",
        "\n",
        "Note that this model was trained on google colab"
      ]
    },
    {
      "cell_type": "code",
      "execution_count": 2,
      "metadata": {
        "colab": {
          "base_uri": "https://localhost:8080/"
        },
        "id": "ZfCaINICdyyN",
        "outputId": "da15f819-f159-4fcf-f297-ccc4daee91d5"
      },
      "outputs": [
        {
          "name": "stdout",
          "output_type": "stream",
          "text": [
            "Drive already mounted at /content/drive; to attempt to forcibly remount, call drive.mount(\"/content/drive\", force_remount=True).\n"
          ]
        }
      ],
      "source": [
        "from google.colab import drive\n",
        "drive.mount('/content/drive')"
      ]
    },
    {
      "cell_type": "code",
      "execution_count": 3,
      "metadata": {
        "id": "g6yjDEt9dtrh"
      },
      "outputs": [],
      "source": [
        "IMAGE_SHAPE = (496, 369)\n",
        "TRAINING_DATA_DIR = r'/content/drive/MyDrive/DSP/A2/training'\n",
        "VALID_DATA_DIR = r'/content/drive/MyDrive/DSP/A2/validation'"
      ]
    },
    {
      "cell_type": "code",
      "execution_count": 4,
      "metadata": {
        "colab": {
          "base_uri": "https://localhost:8080/"
        },
        "id": "KSfDdo6Kdtrh",
        "outputId": "895c1805-f94d-43ac-e540-b1c07f3d2c14"
      },
      "outputs": [
        {
          "name": "stdout",
          "output_type": "stream",
          "text": [
            "Found 312 images belonging to 2 classes.\n",
            "Found 78 images belonging to 2 classes.\n"
          ]
        }
      ],
      "source": [
        "datagen = tf.keras.preprocessing.image.ImageDataGenerator(\n",
        "    rescale=1./255\n",
        ")\n",
        "train_generator = datagen.flow_from_directory(\n",
        "    TRAINING_DATA_DIR,\n",
        "    shuffle=True,\n",
        "    target_size=IMAGE_SHAPE,\n",
        ")\n",
        "valid_generator = datagen.flow_from_directory(\n",
        "    VALID_DATA_DIR,\n",
        "    shuffle=False,\n",
        "    target_size=IMAGE_SHAPE,\n",
        ")"
      ]
    },
    {
      "cell_type": "code",
      "execution_count": 5,
      "metadata": {
        "id": "-JWaFA1Zdtrj"
      },
      "outputs": [],
      "source": [
        "def build_model(num_classes):\n",
        "    model = tf.keras.Sequential([\n",
        "    tf.keras.layers.Conv2D(filters=16, kernel_size=(3, 3), activation='relu', \n",
        "                           input_shape=(IMAGE_SHAPE[0], IMAGE_SHAPE[1], 3)),\n",
        "    tf.keras.layers.MaxPooling2D(pool_size=(2, 2), strides=2),\n",
        "    tf.keras.layers.Conv2D(filters=16, kernel_size=(3, 3), activation='relu'),\n",
        "    tf.keras.layers.MaxPooling2D(pool_size=(2, 2), strides=2),\n",
        "    tf.keras.layers.Conv2D(filters=32, kernel_size=(3, 3), activation='relu'),\n",
        "    tf.keras.layers.MaxPooling2D(pool_size=(2, 2), strides=2),\n",
        "    tf.keras.layers.Flatten(),\n",
        "    tf.keras.layers.Dense(32, activation='relu'),\n",
        "    tf.keras.layers.Dense(num_classes, activation='softmax')\n",
        "    ])\n",
        "    return model\n",
        "model = build_model(num_classes=2)"
      ]
    },
    {
      "cell_type": "code",
      "execution_count": 6,
      "metadata": {
        "id": "YnqObclQdtrj"
      },
      "outputs": [],
      "source": [
        "def get_f1(y_true, y_pred):\n",
        "    true_positives = K.sum(K.round(K.clip(y_true * y_pred, 0, 1)))\n",
        "    possible_positives = K.sum(K.round(K.clip(y_true, 0, 1)))\n",
        "    predicted_positives = K.sum(K.round(K.clip(y_pred, 0, 1)))\n",
        "    precision = true_positives / (predicted_positives + K.epsilon())\n",
        "    recall = true_positives / (possible_positives + K.epsilon())\n",
        "    f1_val = 2*(precision*recall)/(precision+recall+K.epsilon())\n",
        "    \n",
        "    return f1_val"
      ]
    },
    {
      "cell_type": "code",
      "execution_count": 7,
      "metadata": {
        "colab": {
          "base_uri": "https://localhost:8080/"
        },
        "id": "II_wIqD4dtrk",
        "outputId": "a3148c46-531b-453d-b9e5-4adca9b7bdb8"
      },
      "outputs": [
        {
          "name": "stdout",
          "output_type": "stream",
          "text": [
            "Model: \"sequential\"\n",
            "_________________________________________________________________\n",
            " Layer (type)                Output Shape              Param #   \n",
            "=================================================================\n",
            " conv2d (Conv2D)             (None, 494, 367, 16)      448       \n",
            "                                                                 \n",
            " max_pooling2d (MaxPooling2D  (None, 247, 183, 16)     0         \n",
            " )                                                               \n",
            "                                                                 \n",
            " conv2d_1 (Conv2D)           (None, 245, 181, 16)      2320      \n",
            "                                                                 \n",
            " max_pooling2d_1 (MaxPooling  (None, 122, 90, 16)      0         \n",
            " 2D)                                                             \n",
            "                                                                 \n",
            " conv2d_2 (Conv2D)           (None, 120, 88, 32)       4640      \n",
            "                                                                 \n",
            " max_pooling2d_2 (MaxPooling  (None, 60, 44, 32)       0         \n",
            " 2D)                                                             \n",
            "                                                                 \n",
            " flatten (Flatten)           (None, 84480)             0         \n",
            "                                                                 \n",
            " dense (Dense)               (None, 32)                2703392   \n",
            "                                                                 \n",
            " dense_1 (Dense)             (None, 2)                 66        \n",
            "                                                                 \n",
            "=================================================================\n",
            "Total params: 2,710,866\n",
            "Trainable params: 2,710,866\n",
            "Non-trainable params: 0\n",
            "_________________________________________________________________\n",
            "None\n"
          ]
        }
      ],
      "source": [
        "model.compile(\n",
        "    optimizer=tf.keras.optimizers.Adam(learning_rate=0.001),\n",
        "    loss=tf.keras.losses.CategoricalCrossentropy(),\n",
        "    metrics=[get_f1]\n",
        ")\n",
        "print(model.summary())"
      ]
    },
    {
      "cell_type": "code",
      "execution_count": 18,
      "metadata": {
        "colab": {
          "base_uri": "https://localhost:8080/"
        },
        "id": "mZjcChoDdtrk",
        "outputId": "28b3155f-5be2-4a90-bc4a-03dd5afdb817"
      },
      "outputs": [
        {
          "name": "stdout",
          "output_type": "stream",
          "text": [
            "Epoch 1/100\n",
            "9/9 [==============================] - 4s 470ms/step - loss: 0.1450 - get_f1: 0.9294 - val_loss: 2.9606 - val_get_f1: 0.8750\n",
            "Epoch 2/100\n",
            "9/9 [==============================] - 4s 407ms/step - loss: 0.1398 - get_f1: 0.9375 - val_loss: 2.8273 - val_get_f1: 0.8594\n",
            "Epoch 3/100\n",
            "9/9 [==============================] - 5s 532ms/step - loss: 0.1102 - get_f1: 0.9549 - val_loss: 2.6137 - val_get_f1: 0.8281\n",
            "Epoch 4/100\n",
            "9/9 [==============================] - 4s 408ms/step - loss: 0.1202 - get_f1: 0.9456 - val_loss: 2.4231 - val_get_f1: 0.8750\n",
            "Epoch 5/100\n",
            "9/9 [==============================] - 4s 446ms/step - loss: 0.1159 - get_f1: 0.9583 - val_loss: 2.4187 - val_get_f1: 0.8750\n",
            "Epoch 6/100\n",
            "9/9 [==============================] - 4s 502ms/step - loss: 0.1109 - get_f1: 0.9653 - val_loss: 1.8249 - val_get_f1: 0.8594\n",
            "Epoch 7/100\n",
            "9/9 [==============================] - 4s 464ms/step - loss: 0.0958 - get_f1: 0.9722 - val_loss: 2.1437 - val_get_f1: 0.8594\n",
            "Epoch 8/100\n",
            "9/9 [==============================] - 4s 478ms/step - loss: 0.1030 - get_f1: 0.9618 - val_loss: 2.2757 - val_get_f1: 0.8750\n",
            "Epoch 9/100\n",
            "9/9 [==============================] - 4s 406ms/step - loss: 0.0871 - get_f1: 0.9792 - val_loss: 2.2700 - val_get_f1: 0.8594\n",
            "Epoch 10/100\n",
            "9/9 [==============================] - 4s 413ms/step - loss: 0.0835 - get_f1: 0.9792 - val_loss: 3.2327 - val_get_f1: 0.8594\n",
            "Epoch 11/100\n",
            "9/9 [==============================] - 5s 522ms/step - loss: 0.0710 - get_f1: 0.9780 - val_loss: 4.0705 - val_get_f1: 0.8437\n",
            "Epoch 12/100\n",
            "9/9 [==============================] - 5s 519ms/step - loss: 0.0745 - get_f1: 0.9896 - val_loss: 3.0015 - val_get_f1: 0.8750\n",
            "Epoch 13/100\n",
            "9/9 [==============================] - 4s 501ms/step - loss: 0.0650 - get_f1: 0.9896 - val_loss: 2.3516 - val_get_f1: 0.8594\n",
            "Epoch 14/100\n",
            "9/9 [==============================] - 6s 683ms/step - loss: 0.0588 - get_f1: 0.9896 - val_loss: 2.4645 - val_get_f1: 0.8750\n",
            "Epoch 15/100\n",
            "9/9 [==============================] - 4s 473ms/step - loss: 0.0537 - get_f1: 0.9896 - val_loss: 3.1713 - val_get_f1: 0.8594\n",
            "Epoch 16/100\n",
            "9/9 [==============================] - 5s 514ms/step - loss: 0.0513 - get_f1: 0.9896 - val_loss: 3.8683 - val_get_f1: 0.8594\n",
            "Epoch 17/100\n",
            "9/9 [==============================] - 4s 411ms/step - loss: 0.0844 - get_f1: 0.9757 - val_loss: 0.4949 - val_get_f1: 0.8437\n",
            "Epoch 18/100\n",
            "9/9 [==============================] - 4s 466ms/step - loss: 0.0890 - get_f1: 0.9722 - val_loss: 0.9576 - val_get_f1: 0.8594\n",
            "Epoch 19/100\n",
            "9/9 [==============================] - 4s 482ms/step - loss: 0.0720 - get_f1: 0.9734 - val_loss: 0.9736 - val_get_f1: 0.8594\n",
            "Epoch 20/100\n",
            "9/9 [==============================] - 4s 468ms/step - loss: 0.0592 - get_f1: 0.9931 - val_loss: 0.7204 - val_get_f1: 0.8594\n",
            "Epoch 21/100\n",
            "9/9 [==============================] - 4s 511ms/step - loss: 0.0541 - get_f1: 0.9850 - val_loss: 0.5240 - val_get_f1: 0.8750\n",
            "Epoch 22/100\n",
            "9/9 [==============================] - 4s 467ms/step - loss: 0.0461 - get_f1: 0.9931 - val_loss: 0.8252 - val_get_f1: 0.8594\n",
            "Epoch 23/100\n",
            "9/9 [==============================] - 4s 414ms/step - loss: 0.0473 - get_f1: 0.9896 - val_loss: 0.5522 - val_get_f1: 0.8594\n",
            "Epoch 24/100\n",
            "9/9 [==============================] - 4s 492ms/step - loss: 0.0505 - get_f1: 0.9896 - val_loss: 0.6335 - val_get_f1: 0.8906\n",
            "Epoch 25/100\n",
            "9/9 [==============================] - 4s 418ms/step - loss: 0.0468 - get_f1: 0.9931 - val_loss: 2.4771 - val_get_f1: 0.8437\n",
            "Epoch 26/100\n",
            "9/9 [==============================] - 4s 419ms/step - loss: 0.1031 - get_f1: 0.9676 - val_loss: 1.9926 - val_get_f1: 0.8906\n",
            "Epoch 27/100\n",
            "9/9 [==============================] - 5s 518ms/step - loss: 0.1002 - get_f1: 0.9769 - val_loss: 0.7572 - val_get_f1: 0.8437\n",
            "Epoch 28/100\n",
            "9/9 [==============================] - 4s 418ms/step - loss: 0.0688 - get_f1: 0.9896 - val_loss: 0.8061 - val_get_f1: 0.8750\n",
            "Epoch 29/100\n",
            "9/9 [==============================] - 4s 475ms/step - loss: 0.0667 - get_f1: 0.9884 - val_loss: 2.4376 - val_get_f1: 0.8750\n",
            "Epoch 30/100\n",
            "9/9 [==============================] - 5s 528ms/step - loss: 0.0537 - get_f1: 0.9850 - val_loss: 4.2483 - val_get_f1: 0.8594\n",
            "Epoch 31/100\n",
            "9/9 [==============================] - 4s 407ms/step - loss: 0.1398 - get_f1: 0.9826 - val_loss: 2.6458 - val_get_f1: 0.8437\n",
            "Epoch 32/100\n",
            "9/9 [==============================] - 4s 465ms/step - loss: 0.2358 - get_f1: 0.9120 - val_loss: 1.9547 - val_get_f1: 0.7969\n",
            "Epoch 33/100\n",
            "9/9 [==============================] - 5s 538ms/step - loss: 0.2481 - get_f1: 0.9132 - val_loss: 0.7760 - val_get_f1: 0.7969\n",
            "Epoch 34/100\n",
            "9/9 [==============================] - 4s 425ms/step - loss: 0.2203 - get_f1: 0.9178 - val_loss: 2.8123 - val_get_f1: 0.7969\n",
            "Epoch 35/100\n",
            "9/9 [==============================] - 4s 454ms/step - loss: 0.3368 - get_f1: 0.9225 - val_loss: 0.5866 - val_get_f1: 0.7031\n",
            "Epoch 36/100\n",
            "9/9 [==============================] - 5s 546ms/step - loss: 0.5185 - get_f1: 0.7454 - val_loss: 0.5788 - val_get_f1: 0.6719\n",
            "Epoch 37/100\n",
            "9/9 [==============================] - 4s 412ms/step - loss: 0.6191 - get_f1: 0.6331 - val_loss: 0.6140 - val_get_f1: 0.6719\n",
            "Epoch 38/100\n",
            "9/9 [==============================] - 4s 403ms/step - loss: 0.6417 - get_f1: 0.6343 - val_loss: 0.5904 - val_get_f1: 0.6094\n",
            "Epoch 39/100\n",
            "9/9 [==============================] - 4s 452ms/step - loss: 0.5561 - get_f1: 0.7130 - val_loss: 0.5062 - val_get_f1: 0.7344\n",
            "Epoch 40/100\n",
            "9/9 [==============================] - 4s 408ms/step - loss: 0.4726 - get_f1: 0.7442 - val_loss: 0.5090 - val_get_f1: 0.7812\n",
            "Epoch 41/100\n",
            "9/9 [==============================] - 4s 479ms/step - loss: 0.4519 - get_f1: 0.8113 - val_loss: 0.5120 - val_get_f1: 0.8281\n",
            "Epoch 42/100\n",
            "9/9 [==============================] - 4s 465ms/step - loss: 0.3459 - get_f1: 0.8437 - val_loss: 0.4938 - val_get_f1: 0.7656\n",
            "Epoch 43/100\n",
            "9/9 [==============================] - 4s 408ms/step - loss: 0.3052 - get_f1: 0.8449 - val_loss: 0.5064 - val_get_f1: 0.8594\n",
            "Epoch 44/100\n",
            "9/9 [==============================] - 5s 529ms/step - loss: 0.2842 - get_f1: 0.8692 - val_loss: 0.4627 - val_get_f1: 0.8906\n",
            "Epoch 45/100\n",
            "9/9 [==============================] - 4s 405ms/step - loss: 0.2182 - get_f1: 0.9051 - val_loss: 0.4854 - val_get_f1: 0.8594\n",
            "Epoch 46/100\n",
            "9/9 [==============================] - 4s 412ms/step - loss: 0.1818 - get_f1: 0.9120 - val_loss: 0.4164 - val_get_f1: 0.8906\n",
            "Epoch 47/100\n",
            "9/9 [==============================] - 5s 537ms/step - loss: 0.1908 - get_f1: 0.9456 - val_loss: 0.4990 - val_get_f1: 0.8750\n",
            "Epoch 48/100\n",
            "9/9 [==============================] - 4s 408ms/step - loss: 0.1621 - get_f1: 0.9259 - val_loss: 0.8721 - val_get_f1: 0.8281\n",
            "Epoch 49/100\n",
            "9/9 [==============================] - 4s 402ms/step - loss: 0.1459 - get_f1: 0.9444 - val_loss: 0.5032 - val_get_f1: 0.8750\n",
            "Epoch 50/100\n",
            "9/9 [==============================] - 4s 512ms/step - loss: 0.1146 - get_f1: 0.9618 - val_loss: 0.5935 - val_get_f1: 0.8906\n",
            "Epoch 51/100\n",
            "9/9 [==============================] - 4s 411ms/step - loss: 0.0995 - get_f1: 0.9711 - val_loss: 0.6426 - val_get_f1: 0.8750\n",
            "Epoch 52/100\n",
            "9/9 [==============================] - 4s 411ms/step - loss: 0.0838 - get_f1: 0.9757 - val_loss: 0.7109 - val_get_f1: 0.8594\n",
            "Epoch 53/100\n",
            "9/9 [==============================] - 5s 550ms/step - loss: 0.0668 - get_f1: 0.9722 - val_loss: 0.6329 - val_get_f1: 0.8906\n",
            "Epoch 54/100\n",
            "9/9 [==============================] - 4s 412ms/step - loss: 0.0547 - get_f1: 0.9722 - val_loss: 0.6683 - val_get_f1: 0.8750\n",
            "Epoch 55/100\n",
            "9/9 [==============================] - 4s 418ms/step - loss: 0.0464 - get_f1: 0.9861 - val_loss: 0.6949 - val_get_f1: 0.8906\n",
            "Epoch 56/100\n",
            "9/9 [==============================] - 4s 451ms/step - loss: 0.0341 - get_f1: 0.9896 - val_loss: 0.6843 - val_get_f1: 0.8906\n",
            "Epoch 57/100\n",
            "9/9 [==============================] - 4s 465ms/step - loss: 0.0305 - get_f1: 0.9931 - val_loss: 0.6769 - val_get_f1: 0.8906\n",
            "Epoch 58/100\n",
            "9/9 [==============================] - 4s 480ms/step - loss: 0.0248 - get_f1: 0.9954 - val_loss: 0.7036 - val_get_f1: 0.8906\n",
            "Epoch 59/100\n",
            "9/9 [==============================] - 4s 440ms/step - loss: 0.0153 - get_f1: 1.0000 - val_loss: 0.7733 - val_get_f1: 0.8906\n",
            "Epoch 60/100\n",
            "9/9 [==============================] - 4s 470ms/step - loss: 0.0159 - get_f1: 0.9965 - val_loss: 0.6347 - val_get_f1: 0.8906\n",
            "Epoch 61/100\n",
            "9/9 [==============================] - 4s 497ms/step - loss: 0.0237 - get_f1: 0.9965 - val_loss: 0.9370 - val_get_f1: 0.9219\n",
            "Epoch 62/100\n",
            "9/9 [==============================] - 4s 410ms/step - loss: 0.0217 - get_f1: 0.9965 - val_loss: 0.9116 - val_get_f1: 0.8906\n",
            "Epoch 63/100\n",
            "9/9 [==============================] - 4s 465ms/step - loss: 0.0153 - get_f1: 1.0000 - val_loss: 0.8303 - val_get_f1: 0.8906\n",
            "Epoch 64/100\n",
            "9/9 [==============================] - 5s 578ms/step - loss: 0.0095 - get_f1: 1.0000 - val_loss: 0.9190 - val_get_f1: 0.9062\n",
            "Epoch 65/100\n",
            "9/9 [==============================] - 4s 454ms/step - loss: 0.0059 - get_f1: 1.0000 - val_loss: 1.0538 - val_get_f1: 0.9062\n",
            "Epoch 66/100\n",
            "9/9 [==============================] - 4s 495ms/step - loss: 0.0035 - get_f1: 1.0000 - val_loss: 1.1550 - val_get_f1: 0.8750\n",
            "Epoch 67/100\n",
            "9/9 [==============================] - 4s 404ms/step - loss: 0.0028 - get_f1: 1.0000 - val_loss: 1.2175 - val_get_f1: 0.8750\n",
            "Epoch 68/100\n",
            "9/9 [==============================] - 4s 475ms/step - loss: 0.0022 - get_f1: 1.0000 - val_loss: 1.2823 - val_get_f1: 0.8750\n",
            "Epoch 69/100\n",
            "9/9 [==============================] - 4s 457ms/step - loss: 0.0015 - get_f1: 1.0000 - val_loss: 1.3521 - val_get_f1: 0.8750\n",
            "Epoch 70/100\n",
            "9/9 [==============================] - 4s 425ms/step - loss: 0.0012 - get_f1: 1.0000 - val_loss: 1.3885 - val_get_f1: 0.8750\n",
            "Epoch 71/100\n",
            "9/9 [==============================] - 4s 456ms/step - loss: 0.0010 - get_f1: 1.0000 - val_loss: 1.4118 - val_get_f1: 0.8750\n",
            "Epoch 72/100\n",
            "9/9 [==============================] - 4s 407ms/step - loss: 9.5353e-04 - get_f1: 1.0000 - val_loss: 1.4345 - val_get_f1: 0.8750\n",
            "Epoch 73/100\n",
            "9/9 [==============================] - 4s 410ms/step - loss: 7.7839e-04 - get_f1: 1.0000 - val_loss: 1.4776 - val_get_f1: 0.8750\n",
            "Epoch 74/100\n",
            "9/9 [==============================] - 5s 528ms/step - loss: 7.9239e-04 - get_f1: 1.0000 - val_loss: 1.5178 - val_get_f1: 0.8750\n",
            "Epoch 75/100\n",
            "9/9 [==============================] - 4s 411ms/step - loss: 7.3008e-04 - get_f1: 1.0000 - val_loss: 1.5215 - val_get_f1: 0.8750\n",
            "Epoch 76/100\n",
            "9/9 [==============================] - 4s 463ms/step - loss: 5.3977e-04 - get_f1: 1.0000 - val_loss: 1.5759 - val_get_f1: 0.8750\n",
            "Epoch 77/100\n",
            "9/9 [==============================] - 4s 464ms/step - loss: 5.9472e-04 - get_f1: 1.0000 - val_loss: 1.6010 - val_get_f1: 0.8750\n",
            "Epoch 78/100\n",
            "9/9 [==============================] - 4s 462ms/step - loss: 5.9199e-04 - get_f1: 1.0000 - val_loss: 1.6122 - val_get_f1: 0.8750\n",
            "Epoch 79/100\n",
            "9/9 [==============================] - 4s 458ms/step - loss: 5.2494e-04 - get_f1: 1.0000 - val_loss: 1.6133 - val_get_f1: 0.8750\n",
            "Epoch 80/100\n",
            "9/9 [==============================] - 5s 521ms/step - loss: 4.7820e-04 - get_f1: 1.0000 - val_loss: 1.6305 - val_get_f1: 0.8594\n",
            "Epoch 81/100\n",
            "9/9 [==============================] - 4s 399ms/step - loss: 4.4670e-04 - get_f1: 1.0000 - val_loss: 1.6663 - val_get_f1: 0.8594\n",
            "Epoch 82/100\n",
            "9/9 [==============================] - 4s 453ms/step - loss: 3.5022e-04 - get_f1: 1.0000 - val_loss: 1.6950 - val_get_f1: 0.8594\n",
            "Epoch 83/100\n",
            "9/9 [==============================] - 4s 508ms/step - loss: 3.7746e-04 - get_f1: 1.0000 - val_loss: 1.7126 - val_get_f1: 0.8594\n",
            "Epoch 84/100\n",
            "9/9 [==============================] - 4s 417ms/step - loss: 3.8221e-04 - get_f1: 1.0000 - val_loss: 1.7267 - val_get_f1: 0.8594\n",
            "Epoch 85/100\n",
            "9/9 [==============================] - 4s 404ms/step - loss: 3.9975e-04 - get_f1: 1.0000 - val_loss: 1.7373 - val_get_f1: 0.8594\n",
            "Epoch 86/100\n",
            "9/9 [==============================] - 5s 540ms/step - loss: 3.5114e-04 - get_f1: 1.0000 - val_loss: 1.7547 - val_get_f1: 0.8594\n",
            "Epoch 87/100\n",
            "9/9 [==============================] - 4s 421ms/step - loss: 3.0032e-04 - get_f1: 1.0000 - val_loss: 1.7778 - val_get_f1: 0.8594\n",
            "Epoch 88/100\n",
            "9/9 [==============================] - 4s 419ms/step - loss: 2.9643e-04 - get_f1: 1.0000 - val_loss: 1.7916 - val_get_f1: 0.8594\n",
            "Epoch 89/100\n",
            "9/9 [==============================] - 4s 461ms/step - loss: 2.9135e-04 - get_f1: 1.0000 - val_loss: 1.8047 - val_get_f1: 0.8594\n",
            "Epoch 90/100\n",
            "9/9 [==============================] - 4s 464ms/step - loss: 3.0899e-04 - get_f1: 1.0000 - val_loss: 1.8144 - val_get_f1: 0.8594\n",
            "Epoch 91/100\n",
            "9/9 [==============================] - 4s 462ms/step - loss: 2.6885e-04 - get_f1: 1.0000 - val_loss: 1.8298 - val_get_f1: 0.8594\n",
            "Epoch 92/100\n",
            "9/9 [==============================] - 4s 462ms/step - loss: 2.9032e-04 - get_f1: 1.0000 - val_loss: 1.8556 - val_get_f1: 0.8594\n",
            "Epoch 93/100\n",
            "9/9 [==============================] - 4s 480ms/step - loss: 2.6314e-04 - get_f1: 1.0000 - val_loss: 1.8737 - val_get_f1: 0.8594\n",
            "Epoch 94/100\n",
            "9/9 [==============================] - 4s 413ms/step - loss: 2.6784e-04 - get_f1: 1.0000 - val_loss: 1.8876 - val_get_f1: 0.8594\n",
            "Epoch 95/100\n",
            "9/9 [==============================] - 4s 497ms/step - loss: 2.5748e-04 - get_f1: 1.0000 - val_loss: 1.9023 - val_get_f1: 0.8594\n",
            "Epoch 96/100\n",
            "9/9 [==============================] - 4s 463ms/step - loss: 2.2352e-04 - get_f1: 1.0000 - val_loss: 1.9197 - val_get_f1: 0.8594\n",
            "Epoch 97/100\n",
            "9/9 [==============================] - 4s 410ms/step - loss: 2.0678e-04 - get_f1: 1.0000 - val_loss: 1.9406 - val_get_f1: 0.8594\n",
            "Epoch 98/100\n",
            "9/9 [==============================] - 5s 508ms/step - loss: 2.3665e-04 - get_f1: 1.0000 - val_loss: 1.9548 - val_get_f1: 0.8594\n",
            "Epoch 99/100\n",
            "9/9 [==============================] - 4s 467ms/step - loss: 2.0888e-04 - get_f1: 1.0000 - val_loss: 1.9765 - val_get_f1: 0.8594\n",
            "Epoch 100/100\n",
            "9/9 [==============================] - 4s 473ms/step - loss: 2.1808e-04 - get_f1: 1.0000 - val_loss: 1.9979 - val_get_f1: 0.8594\n"
          ]
        }
      ],
      "source": [
        "EPOCHS = 200\n",
        "BATCH_SIZE = 32\n",
        "# Here I will use model checkpoint callback so that I can save the models with the highest validation f1 score and load it\n",
        "checkpoint_filepath = '/content/drive/MyDrive/DSP/A2/checkpoint/'\n",
        "model_checkpoint_callback = tf.keras.callbacks.ModelCheckpoint(\n",
        "    filepath=checkpoint_filepath,\n",
        "    save_weights_only=True,\n",
        "    monitor='val_get_f1',\n",
        "    mode='max',\n",
        "    save_best_only=True)\n",
        "\n",
        "history = model.fit(train_generator,\n",
        "                    steps_per_epoch=train_generator.samples // BATCH_SIZE,\n",
        "                    epochs=EPOCHS,\n",
        "                    validation_data=valid_generator,\n",
        "                    validation_steps= valid_generator.samples // BATCH_SIZE,\n",
        "                    verbose=1, callbacks=[model_checkpoint_callback]\n",
        "                    )"
      ]
    },
    {
      "cell_type": "code",
      "execution_count": 19,
      "metadata": {
        "colab": {
          "base_uri": "https://localhost:8080/"
        },
        "id": "By_r0bwPgZP1",
        "outputId": "43b84282-a127-4a41-9c90-7e8d14742c71"
      },
      "outputs": [
        {
          "data": {
            "text/plain": [
              "<tensorflow.python.checkpoint.checkpoint.CheckpointLoadStatus at 0x7fdfa7668ee0>"
            ]
          },
          "execution_count": 19,
          "metadata": {},
          "output_type": "execute_result"
        }
      ],
      "source": [
        "model.load_weights(checkpoint_filepath)"
      ]
    },
    {
      "cell_type": "code",
      "execution_count": 20,
      "metadata": {
        "colab": {
          "base_uri": "https://localhost:8080/"
        },
        "id": "BoTjt_FDmDZI",
        "outputId": "7b32cadf-7c91-4879-eb6f-68cb519302eb"
      },
      "outputs": [
        {
          "name": "stdout",
          "output_type": "stream",
          "text": [
            "1/1 [==============================] - 0s 26ms/step\n",
            "1/1 [==============================] - 0s 20ms/step\n",
            "1/1 [==============================] - 0s 22ms/step\n",
            "1/1 [==============================] - 0s 25ms/step\n",
            "1/1 [==============================] - 0s 22ms/step\n",
            "1/1 [==============================] - 0s 22ms/step\n",
            "1/1 [==============================] - 0s 24ms/step\n",
            "1/1 [==============================] - 0s 28ms/step\n",
            "1/1 [==============================] - 0s 29ms/step\n",
            "1/1 [==============================] - 0s 26ms/step\n",
            "1/1 [==============================] - 0s 23ms/step\n",
            "1/1 [==============================] - 0s 25ms/step\n",
            "1/1 [==============================] - 0s 25ms/step\n",
            "1/1 [==============================] - 0s 29ms/step\n",
            "1/1 [==============================] - 0s 23ms/step\n",
            "1/1 [==============================] - 0s 21ms/step\n",
            "1/1 [==============================] - 0s 22ms/step\n",
            "1/1 [==============================] - 0s 21ms/step\n",
            "1/1 [==============================] - 0s 24ms/step\n",
            "1/1 [==============================] - 0s 26ms/step\n",
            "1/1 [==============================] - 0s 26ms/step\n",
            "1/1 [==============================] - 0s 24ms/step\n",
            "1/1 [==============================] - 0s 23ms/step\n",
            "1/1 [==============================] - 0s 24ms/step\n",
            "1/1 [==============================] - 0s 23ms/step\n",
            "1/1 [==============================] - 0s 24ms/step\n",
            "1/1 [==============================] - 0s 24ms/step\n",
            "1/1 [==============================] - 0s 23ms/step\n",
            "1/1 [==============================] - 0s 21ms/step\n",
            "1/1 [==============================] - 0s 28ms/step\n",
            "1/1 [==============================] - 0s 22ms/step\n",
            "1/1 [==============================] - 0s 20ms/step\n",
            "1/1 [==============================] - 0s 24ms/step\n",
            "1/1 [==============================] - 0s 21ms/step\n",
            "1/1 [==============================] - 0s 23ms/step\n",
            "1/1 [==============================] - 0s 28ms/step\n",
            "1/1 [==============================] - 0s 21ms/step\n",
            "1/1 [==============================] - 0s 21ms/step\n",
            "1/1 [==============================] - 0s 23ms/step\n",
            "1/1 [==============================] - 0s 24ms/step\n",
            "1/1 [==============================] - 0s 23ms/step\n",
            "1/1 [==============================] - 0s 26ms/step\n",
            "1/1 [==============================] - 0s 21ms/step\n",
            "1/1 [==============================] - 0s 26ms/step\n",
            "1/1 [==============================] - 0s 25ms/step\n",
            "1/1 [==============================] - 0s 27ms/step\n",
            "1/1 [==============================] - 0s 29ms/step\n",
            "1/1 [==============================] - 0s 22ms/step\n",
            "1/1 [==============================] - 0s 24ms/step\n",
            "1/1 [==============================] - 0s 24ms/step\n",
            "1/1 [==============================] - 0s 25ms/step\n",
            "1/1 [==============================] - 0s 21ms/step\n",
            "1/1 [==============================] - 0s 25ms/step\n",
            "1/1 [==============================] - 0s 24ms/step\n",
            "1/1 [==============================] - 0s 25ms/step\n",
            "1/1 [==============================] - 0s 23ms/step\n",
            "1/1 [==============================] - 0s 21ms/step\n",
            "1/1 [==============================] - 0s 25ms/step\n",
            "1/1 [==============================] - 0s 34ms/step\n",
            "1/1 [==============================] - 0s 40ms/step\n",
            "1/1 [==============================] - 0s 34ms/step\n",
            "1/1 [==============================] - 0s 38ms/step\n",
            "1/1 [==============================] - 0s 34ms/step\n",
            "1/1 [==============================] - 0s 31ms/step\n",
            "1/1 [==============================] - 0s 30ms/step\n",
            "1/1 [==============================] - 0s 38ms/step\n",
            "1/1 [==============================] - 0s 32ms/step\n",
            "1/1 [==============================] - 0s 32ms/step\n",
            "1/1 [==============================] - 0s 30ms/step\n",
            "1/1 [==============================] - 0s 29ms/step\n",
            "1/1 [==============================] - 0s 46ms/step\n",
            "1/1 [==============================] - 0s 37ms/step\n",
            "1/1 [==============================] - 0s 32ms/step\n",
            "1/1 [==============================] - 0s 36ms/step\n",
            "1/1 [==============================] - 0s 29ms/step\n",
            "1/1 [==============================] - 0s 39ms/step\n",
            "1/1 [==============================] - 0s 32ms/step\n",
            "1/1 [==============================] - 0s 31ms/step\n"
          ]
        },
        {
          "data": {
            "text/plain": [
              "0.898550724637681"
            ]
          },
          "execution_count": 20,
          "metadata": {},
          "output_type": "execute_result"
        }
      ],
      "source": [
        "# Manually testing the model to see which validation was picked up\n",
        "import os\n",
        "from sklearn.metrics import f1_score\n",
        "import numpy as np\n",
        "y_true = []\n",
        "y_pred = []\n",
        "for file in os.listdir(r'/content/drive/MyDrive/DSP/A2/validation/n0'):\n",
        "  image = tf.keras.preprocessing.image.load_img(rf'/content/drive/MyDrive/DSP/A2/validation/n0/{file}',\n",
        "                                            target_size=IMAGE_SHAPE)\n",
        "  input_arr = tf.keras.preprocessing.image.img_to_array(image)\n",
        "  input_arr = np.array([input_arr])  # Convert single image to a batch.\n",
        "  input_arr = input_arr.astype('float32') / 255.\n",
        "\n",
        "  predictions = model.predict(input_arr)\n",
        "\n",
        "  if predictions[0][0] > predictions[0][1]:\n",
        "    y_pred.append(0)\n",
        "  else:\n",
        "    y_pred.append(1)\n",
        "\n",
        "  y_true.append(0)\n",
        "\n",
        "for file in os.listdir(r'/content/drive/MyDrive/DSP/A2/validation/n1'):\n",
        "  image = tf.keras.preprocessing.image.load_img(rf'/content/drive/MyDrive/DSP/A2/validation/n1/{file}',\n",
        "                                            target_size=IMAGE_SHAPE)\n",
        "  input_arr = tf.keras.preprocessing.image.img_to_array(image)\n",
        "  input_arr = np.array([input_arr])  # Convert single image to a batch.\n",
        "  input_arr = input_arr.astype('float32') / 255.\n",
        "\n",
        "  predictions = model.predict(input_arr)\n",
        "\n",
        "  if predictions[0][0] > predictions[0][1]:\n",
        "    y_pred.append(0)\n",
        "  else:\n",
        "    y_pred.append(1)\n",
        "\n",
        "  y_true.append(1)\n",
        "\n",
        "f1_score(y_true=y_true, y_pred=y_pred)"
      ]
    },
    {
      "cell_type": "code",
      "execution_count": 23,
      "metadata": {
        "colab": {
          "base_uri": "https://localhost:8080/"
        },
        "id": "TTZ-gbzcdtrm",
        "outputId": "c8199726-c16a-41e4-b8f3-038dd0ef939a"
      },
      "outputs": [
        {
          "name": "stderr",
          "output_type": "stream",
          "text": [
            "WARNING:absl:Found untraced functions such as _jit_compiled_convolution_op, _jit_compiled_convolution_op, _jit_compiled_convolution_op while saving (showing 3 of 3). These functions will not be directly callable after loading.\n"
          ]
        }
      ],
      "source": [
        "model.save('/content/drive/MyDrive/DSP/A2/model')"
      ]
    }
  ],
  "metadata": {
    "accelerator": "GPU",
    "colab": {
      "provenance": []
    },
    "gpuClass": "standard",
    "kernelspec": {
      "display_name": "tf2.4",
      "language": "python",
      "name": "python3"
    },
    "language_info": {
      "codemirror_mode": {
        "name": "ipython",
        "version": 3
      },
      "file_extension": ".py",
      "mimetype": "text/x-python",
      "name": "python",
      "nbconvert_exporter": "python",
      "pygments_lexer": "ipython3",
      "version": "3.9.13"
    },
    "orig_nbformat": 4,
    "vscode": {
      "interpreter": {
        "hash": "d6f9e8ac06ebdc7ff85bcd0e52785e268bf732549fc0570b081a0ab97ab4f2b5"
      }
    }
  },
  "nbformat": 4,
  "nbformat_minor": 0
}
